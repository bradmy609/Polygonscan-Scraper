{
 "cells": [
  {
   "cell_type": "code",
   "execution_count": 1,
   "id": "8e24e905",
   "metadata": {},
   "outputs": [],
   "source": [
    "import pandas as pd\n",
    "import numpy as np\n",
    "from sqlalchemy import create_engine, inspect\n",
    "from execute import *\n",
    "import ssl\n",
    "import smtplib\n",
    "import datetime"
   ]
  },
  {
   "cell_type": "code",
   "execution_count": 2,
   "id": "25e4a32a",
   "metadata": {},
   "outputs": [
    {
     "name": "stdout",
     "output_type": "stream",
     "text": [
      "Starting query loop, initial query destination:\n",
      "https://polygonscan.com/tokens\n",
      "Querying next URL:\n",
      "https://polygonscan.com/tokens?p=2\n",
      "Querying next URL:\n",
      "https://polygonscan.com/tokens?p=3\n",
      "Querying next URL:\n",
      "https://polygonscan.com/tokens?p=4\n",
      "Querying next URL:\n",
      "https://polygonscan.com/tokens?p=5\n",
      "End of pages, no next page link found within page_links!\n",
      "Querying next URL:\n",
      "None\n"
     ]
    }
   ],
   "source": [
    "execute()"
   ]
  },
  {
   "cell_type": "code",
   "execution_count": 47,
   "id": "9e7b83ea",
   "metadata": {},
   "outputs": [],
   "source": [
    "def config_engine():\n",
    "    engine = create_engine('sqlite:///polygonscan.db', echo=False)\n",
    "    inspector = inspect(engine)\n",
    "    tables = inspector.get_table_names()\n",
    "    return engine, tables"
   ]
  },
  {
   "cell_type": "code",
   "execution_count": 48,
   "id": "e22d5abb",
   "metadata": {},
   "outputs": [],
   "source": [
    "def set_tables():\n",
    "    recent = pd.read_sql(\"SELECT symbol, rank, usd, volume24h, date, time FROM {} WHERE volume24h > 0 AND usd > 0 AND symbol <> 'BONE'\".format(tables[len(tables)-1]), con=engine)\n",
    "    previous = pd.read_sql(\"SELECT symbol, rank, usd, volume24h, date, time FROM {} WHERE volume24h > 0 AND usd > 0 AND symbol <> 'BONE'\".format(tables[len(tables)-3]), con=engine)\n",
    "    recent = recent.set_index('symbol')\n",
    "    previous = previous.set_index('symbol')\n",
    "    return recent, previous"
   ]
  },
  {
   "cell_type": "code",
   "execution_count": 49,
   "id": "59481bb5",
   "metadata": {},
   "outputs": [],
   "source": [
    "def compare_indices(new_table, old_table):\n",
    "    new_indices = []\n",
    "    for i in list(new_table.index):\n",
    "        if i not in list(old_table.index):\n",
    "            new_indices.append(i)\n",
    "\n",
    "    if new_indices:\n",
    "        new_coin_data = new_table.loc[new_indices]\n",
    "        for i in new_indices:\n",
    "            new_table = new_table.drop(i)\n",
    "        return new_coin_data, new_table\n",
    "    else:\n",
    "        return 'None', new_table"
   ]
  },
  {
   "cell_type": "code",
   "execution_count": 50,
   "id": "0ca5d1b2",
   "metadata": {},
   "outputs": [],
   "source": [
    "def remove_dupes(new_table, old_table):\n",
    "    nt_dupes = new_table[new_table.index.duplicated()]\n",
    "    ot_dupes = old_table[old_table.index.duplicated()]\n",
    "    if not nt_dupes.empty:\n",
    "        new_table = new_table[~new_table.index.duplicated(keep='first')]\n",
    "    if not ot_dupes.empty:\n",
    "        old_table = old_table[~old_table.index.duplicated(keep='first')]\n",
    "        \n",
    "    duplicates = [nt_dupes, ot_dupes]\n",
    "        \n",
    "    return new_table, old_table, duplicates"
   ]
  },
  {
   "cell_type": "code",
   "execution_count": 51,
   "id": "74354c1a",
   "metadata": {},
   "outputs": [],
   "source": [
    "def get_deltas(new_table, old_table, remove):\n",
    "    deltas = pd.DataFrame({'symbol': new_table.index})\n",
    "    d = {}\n",
    "    for label in remove:\n",
    "        for i in new_table.index:\n",
    "            recent_coin_data = new_table.loc[i][label]\n",
    "            previous_coin_data = old_table.loc[i][label]\n",
    "            diff = (recent_coin_data - previous_coin_data)/recent_coin_data*100\n",
    "            d[i] = round(diff, 2)\n",
    "        deltas[label + ' % change'] = deltas['symbol'].map(d)\n",
    "        \n",
    "    return deltas"
   ]
  },
  {
   "cell_type": "code",
   "execution_count": 52,
   "id": "29b96b5a",
   "metadata": {},
   "outputs": [],
   "source": [
    "def get_new_coins(recent, previous):\n",
    "    new_indices = []\n",
    "    for i in list(recent.index):\n",
    "        if i not in list(previous.index):\n",
    "            new_indices.append(i)\n",
    "    return new_indices"
   ]
  },
  {
   "cell_type": "code",
   "execution_count": 53,
   "id": "4b2f8ab9",
   "metadata": {},
   "outputs": [],
   "source": [
    "def get_time_difference(recent, previous):\n",
    "    recent_time = recent['time'][1]\n",
    "    previous_time = previous['time'][1]\n",
    "    rec = datetime.datetime.strptime(recent_time, '%H:%M:%S')\n",
    "    prev = datetime.datetime.strptime(previous_time, '%H:%M:%S')\n",
    "    difference = rec-prev\n",
    "    hour_difference = difference.seconds/3600\n",
    "    hour_difference = round(hour_difference, 1)\n",
    "    \n",
    "    recent_date = recent['date'][1]\n",
    "    previous_date = previous['date'][1]\n",
    "    recd = datetime.datetime.strptime(recent_date, '%Y-%M-%d')\n",
    "    prevd = datetime.datetime.strptime(previous_date, '%Y-%M-%d')\n",
    "    dif = recd-prevd\n",
    "    if dif.days:\n",
    "        hour_difference += 24\n",
    "    return hour_difference"
   ]
  },
  {
   "cell_type": "code",
   "execution_count": 54,
   "id": "4bc73a1d",
   "metadata": {},
   "outputs": [],
   "source": [
    "def set_alert():\n",
    "    recent_date = recent['date'][1]\n",
    "    previous_date = previous['date'][1]\n",
    "    recent_time = recent['time'][1]\n",
    "    previous_time = previous['time'][1]\n",
    "    \n",
    "    message_header = \"Comparing Polygonscan data from {} at {} (PST) to {} at {} (PST)\".format(previous_date, previous_time, recent_date, recent_time)\n",
    "    new_coins = \"There were {} new coins added to the Polygon Network in this {} hour time period. The new coins are: {}\".format(len(new_tokens), hour_difference, new_tokens)\n",
    "\n",
    "    message = message_header + '\\n'*2 + new_coins + '\\n'*2 + \"The top 15 coins for the past {} hour period are \".format(hour_difference)\n",
    "    top_coin_data = deltas.head(15)\n",
    "    alert = [message, top_coin_data]\n",
    "    return alert"
   ]
  },
  {
   "cell_type": "code",
   "execution_count": 55,
   "id": "9099cb0a",
   "metadata": {},
   "outputs": [],
   "source": [
    "def send_email(email_lst, message):\n",
    "    port = 465 # For SSL\n",
    "    smtp_server = 'smtp.gmail.com'\n",
    "    sender_email = 'polygonscanscraper@gmail.com'\n",
    "    password = 'Apple!123'\n",
    "    message = \"\"\"Subject: Polygonscan Notification!\n",
    "    \\n\\n\n",
    "    \n",
    "    {}\\n\\n\n",
    "    \n",
    "    {}\"\"\".format(message[0], message[1])\n",
    "    context = ssl.create_default_context()\n",
    "    with smtplib.SMTP_SSL(smtp_server, port, context=context) as server:\n",
    "        for receiver_email in email_lst:\n",
    "            server.login(sender_email, password)\n",
    "            server.sendmail(sender_email, receiver_email, message)"
   ]
  },
  {
   "cell_type": "code",
   "execution_count": 56,
   "id": "3364cafd",
   "metadata": {},
   "outputs": [],
   "source": [
    "engine, tables = config_engine()"
   ]
  },
  {
   "cell_type": "code",
   "execution_count": 57,
   "id": "70a71d4b",
   "metadata": {},
   "outputs": [],
   "source": [
    "recent, previous = set_tables()"
   ]
  },
  {
   "cell_type": "code",
   "execution_count": 58,
   "id": "4f436b59",
   "metadata": {},
   "outputs": [],
   "source": [
    "new_tokens = get_new_coins(recent, previous)"
   ]
  },
  {
   "cell_type": "code",
   "execution_count": 59,
   "id": "dc85d183",
   "metadata": {
    "scrolled": true
   },
   "outputs": [],
   "source": [
    "new_token_data, recent_newcoins_dropped = compare_indices(recent, previous)"
   ]
  },
  {
   "cell_type": "code",
   "execution_count": 60,
   "id": "76f4c695",
   "metadata": {},
   "outputs": [],
   "source": [
    "recent, previous, duplicates = remove_dupes(recent, previous)"
   ]
  },
  {
   "cell_type": "code",
   "execution_count": 61,
   "id": "905c2572",
   "metadata": {},
   "outputs": [],
   "source": [
    "deltas = get_deltas(recent_newcoins_dropped, previous, ['usd', 'volume24h'])\n",
    "deltas = deltas.set_index('symbol')"
   ]
  },
  {
   "cell_type": "code",
   "execution_count": 62,
   "id": "6f74f976",
   "metadata": {},
   "outputs": [],
   "source": [
    "deltas = deltas.sort_values(['usd % change', 'volume24h % change'], axis=0, ascending=False)"
   ]
  },
  {
   "cell_type": "code",
   "execution_count": 63,
   "id": "bfe1303c",
   "metadata": {
    "scrolled": true
   },
   "outputs": [],
   "source": [
    "top_coin_data = deltas.head(15)"
   ]
  },
  {
   "cell_type": "code",
   "execution_count": 64,
   "id": "0892ee0b",
   "metadata": {},
   "outputs": [],
   "source": [
    "hour_difference = get_time_difference(recent, previous)"
   ]
  },
  {
   "cell_type": "code",
   "execution_count": 65,
   "id": "28e63a02",
   "metadata": {},
   "outputs": [],
   "source": [
    "alert = set_alert()\n",
    "# 'cryptofarmbets@gmail.com'\n",
    "email_lst = ['bradleymyers574@gmail.com']"
   ]
  },
  {
   "cell_type": "code",
   "execution_count": 66,
   "id": "bd70ff35",
   "metadata": {},
   "outputs": [],
   "source": [
    "send_email(email_lst, alert)"
   ]
  },
  {
   "cell_type": "code",
   "execution_count": 67,
   "id": "80cff168",
   "metadata": {},
   "outputs": [
    {
     "name": "stdout",
     "output_type": "stream",
     "text": [
      "          usd % change  volume24h % change\n",
      "symbol                                    \n",
      "INXT             17.62                8.74\n",
      "EDR              14.29               50.80\n",
      "ADDY             10.71               39.90\n",
      "DHT               8.62               84.47\n",
      "BLZ               7.59               47.29\n",
      "DERI              7.52               51.85\n",
      "BZRX              6.11               10.85\n",
      "LCX               5.02                1.91\n",
      "LIT               4.65               18.75\n",
      "SAND              4.53                7.94\n",
      "OGN               4.24               32.05\n",
      "STND              3.71              -70.90\n",
      "PAR               3.39               17.37\n",
      "BAND              2.93              -15.51\n",
      "1INCH             2.88               17.27\n",
      "DSLA              2.78               -0.98\n",
      "XTK               2.43               -9.65\n",
      "ARMOR             2.33               -7.36\n",
      "POOL              2.26               71.69\n",
      "amWMATIC          2.08               50.00\n"
     ]
    }
   ],
   "source": [
    "print(deltas.head(20))"
   ]
  },
  {
   "cell_type": "code",
   "execution_count": null,
   "id": "bbad9976",
   "metadata": {},
   "outputs": [],
   "source": []
  }
 ],
 "metadata": {
  "kernelspec": {
   "display_name": "Python 3",
   "language": "python",
   "name": "python3"
  },
  "language_info": {
   "codemirror_mode": {
    "name": "ipython",
    "version": 3
   },
   "file_extension": ".py",
   "mimetype": "text/x-python",
   "name": "python",
   "nbconvert_exporter": "python",
   "pygments_lexer": "ipython3",
   "version": "3.8.11"
  }
 },
 "nbformat": 4,
 "nbformat_minor": 5
}
