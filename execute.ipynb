{
 "cells": [
  {
   "cell_type": "code",
   "execution_count": 41,
   "id": "f61c067c",
   "metadata": {},
   "outputs": [],
   "source": [
    "from aggregateFuncs import get_polygonscan_tokens\n",
    "import pandas as pd\n",
    "from datetime import datetime\n",
    "from sqlalchemy import create_engine\n",
    "import requests"
   ]
  },
  {
   "cell_type": "code",
   "execution_count": 42,
   "id": "a26c157c",
   "metadata": {},
   "outputs": [
    {
     "name": "stdout",
     "output_type": "stream",
     "text": [
      "Starting query loop, initial query destination:\n",
      "https://polygonscan.com/tokens\n",
      "Querying next URL:\n",
      "https://polygonscan.com/tokens?p=2\n",
      "Querying next URL:\n",
      "https://polygonscan.com/tokens?p=3\n",
      "Querying next URL:\n",
      "https://polygonscan.com/tokens?p=4\n",
      "Querying next URL:\n",
      "https://polygonscan.com/tokens?p=5\n",
      "End of pages, no next page link found within page_links!\n",
      "Querying next URL:\n",
      "None\n"
     ]
    }
   ],
   "source": [
    "df = get_polygonscan_tokens()"
   ]
  },
  {
   "cell_type": "code",
   "execution_count": 43,
   "id": "45de7e2d",
   "metadata": {},
   "outputs": [],
   "source": [
    "def new_index(df):\n",
    "    new_index = list(range(1, len(df)+1))\n",
    "    df['rank'] = new_index\n",
    "    new_df = df.set_index('rank')\n",
    "    return new_df"
   ]
  },
  {
   "cell_type": "code",
   "execution_count": 44,
   "id": "f33ca465",
   "metadata": {},
   "outputs": [],
   "source": [
    "df = new_index(df)"
   ]
  },
  {
   "cell_type": "code",
   "execution_count": 45,
   "id": "33eeeb26",
   "metadata": {},
   "outputs": [],
   "source": [
    "dt = datetime.now()\n",
    "date_h = dt.strftime('%y%m%d_%H')"
   ]
  },
  {
   "cell_type": "code",
   "execution_count": 46,
   "id": "b32d9dfe",
   "metadata": {
    "scrolled": false
   },
   "outputs": [],
   "source": [
    "table = 'poly' + date_h"
   ]
  },
  {
   "cell_type": "code",
   "execution_count": 47,
   "id": "1b50fca5",
   "metadata": {},
   "outputs": [],
   "source": [
    "engine = create_engine('sqlite:///polygonscan.db', echo=False)"
   ]
  },
  {
   "cell_type": "code",
   "execution_count": 48,
   "id": "66672790",
   "metadata": {},
   "outputs": [],
   "source": [
    "df.to_sql(table, con=engine, if_exists='replace')"
   ]
  }
 ],
 "metadata": {
  "interpreter": {
   "hash": "c931ba401747e1100110d99c7b2e1195adf3961a7e00160e720e39c4d164b397"
  },
  "kernelspec": {
   "display_name": "Python 3",
   "language": "python",
   "name": "python3"
  },
  "language_info": {
   "codemirror_mode": {
    "name": "ipython",
    "version": 3
   },
   "file_extension": ".py",
   "mimetype": "text/x-python",
   "name": "python",
   "nbconvert_exporter": "python",
   "pygments_lexer": "ipython3",
   "version": "3.8.11"
  }
 },
 "nbformat": 4,
 "nbformat_minor": 5
}
